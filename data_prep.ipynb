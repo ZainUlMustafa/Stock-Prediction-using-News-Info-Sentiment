{
 "cells": [
  {
   "cell_type": "markdown",
   "metadata": {},
   "source": [
    "## Step 3: Preparing data for training\n",
    "\n",
    "**Objectives**\n",
    "- 3.1. Importing daily scores from news folder\n",
    "- 3.2. Importing daily stock data from stock folder\n",
    "- 3.3. Merge both the imported data with date\n",
    "- 3.4. Saving the merged data\n",
    "- 3.5. Check data by plotting the graph"
   ]
  },
  {
   "cell_type": "code",
   "execution_count": 2,
   "metadata": {},
   "outputs": [],
   "source": [
    "import pandas as pd\n",
    "import json\n",
    "\n",
    "import matplotlib.pyplot as plt"
   ]
  },
  {
   "cell_type": "markdown",
   "metadata": {},
   "source": [
    "### 3.1. Importing daily scores from news folder"
   ]
  },
  {
   "cell_type": "code",
   "execution_count": 3,
   "metadata": {},
   "outputs": [
    {
     "data": {
      "text/html": [
       "<div>\n",
       "<style scoped>\n",
       "    .dataframe tbody tr th:only-of-type {\n",
       "        vertical-align: middle;\n",
       "    }\n",
       "\n",
       "    .dataframe tbody tr th {\n",
       "        vertical-align: top;\n",
       "    }\n",
       "\n",
       "    .dataframe thead th {\n",
       "        text-align: right;\n",
       "    }\n",
       "</style>\n",
       "<table border=\"1\" class=\"dataframe\">\n",
       "  <thead>\n",
       "    <tr style=\"text-align: right;\">\n",
       "      <th></th>\n",
       "      <th>jsonDate</th>\n",
       "      <th>sentiment</th>\n",
       "      <th>date</th>\n",
       "    </tr>\n",
       "  </thead>\n",
       "  <tbody>\n",
       "    <tr>\n",
       "      <th>0</th>\n",
       "      <td>2015-01-01</td>\n",
       "      <td>[0.3070025146007538, 0.17011728882789612, 0.15...</td>\n",
       "      <td>2015-01-01</td>\n",
       "    </tr>\n",
       "    <tr>\n",
       "      <th>1</th>\n",
       "      <td>2015-01-02</td>\n",
       "      <td>[0.282503217458725, 0.1561100333929062, 0.1806...</td>\n",
       "      <td>2015-01-02</td>\n",
       "    </tr>\n",
       "    <tr>\n",
       "      <th>2</th>\n",
       "      <td>2015-01-03</td>\n",
       "      <td>[0.32533949613571167, 0.14950306713581085, 0.1...</td>\n",
       "      <td>2015-01-03</td>\n",
       "    </tr>\n",
       "    <tr>\n",
       "      <th>3</th>\n",
       "      <td>2015-01-04</td>\n",
       "      <td>[0.32683512568473816, 0.17659184336662292, 0.1...</td>\n",
       "      <td>2015-01-04</td>\n",
       "    </tr>\n",
       "    <tr>\n",
       "      <th>4</th>\n",
       "      <td>2015-01-05</td>\n",
       "      <td>[0.3772907555103302, 0.14218369126319885, 0.14...</td>\n",
       "      <td>2015-01-05</td>\n",
       "    </tr>\n",
       "  </tbody>\n",
       "</table>\n",
       "</div>"
      ],
      "text/plain": [
       "     jsonDate                                          sentiment       date\n",
       "0  2015-01-01  [0.3070025146007538, 0.17011728882789612, 0.15... 2015-01-01\n",
       "1  2015-01-02  [0.282503217458725, 0.1561100333929062, 0.1806... 2015-01-02\n",
       "2  2015-01-03  [0.32533949613571167, 0.14950306713581085, 0.1... 2015-01-03\n",
       "3  2015-01-04  [0.32683512568473816, 0.17659184336662292, 0.1... 2015-01-04\n",
       "4  2015-01-05  [0.3772907555103302, 0.14218369126319885, 0.14... 2015-01-05"
      ]
     },
     "execution_count": 3,
     "metadata": {},
     "output_type": "execute_result"
    }
   ],
   "source": [
    "with open('./data/news2023/daily_scores.json', 'r') as file:\n",
    "    sentimentScores = json.load(file)\n",
    "#endwith\n",
    "\n",
    "dfSentiment = pd.DataFrame(list(sentimentScores.items()), columns=['jsonDate', 'sentiment'])\n",
    "dfSentiment['date'] = pd.to_datetime(dfSentiment['jsonDate'], format='%Y-%m-%d')\n",
    "dfSentiment.head()"
   ]
  },
  {
   "cell_type": "markdown",
   "metadata": {},
   "source": [
    "### 3.2. Importing daily stock data from stock folder\n",
    "- Data used will be of Habib Bank Limited (HBL)\n",
    "- This bank is considered to be the top performing and one of the most profitable bank in the country [[Source: AsiaMoney](https://www.asiamoney.com/article/2bp0xnj0tjyfvvwhd8oow/awards/best-bank-awards/pakistans-best-domestic-bank-2023-hbl)]\n",
    "- This bank has branches outside Pakistan as well"
   ]
  },
  {
   "cell_type": "code",
   "execution_count": 4,
   "metadata": {},
   "outputs": [
    {
     "data": {
      "text/html": [
       "<div>\n",
       "<style scoped>\n",
       "    .dataframe tbody tr th:only-of-type {\n",
       "        vertical-align: middle;\n",
       "    }\n",
       "\n",
       "    .dataframe tbody tr th {\n",
       "        vertical-align: top;\n",
       "    }\n",
       "\n",
       "    .dataframe thead th {\n",
       "        text-align: right;\n",
       "    }\n",
       "</style>\n",
       "<table border=\"1\" class=\"dataframe\">\n",
       "  <thead>\n",
       "    <tr style=\"text-align: right;\">\n",
       "      <th></th>\n",
       "      <th>Symbol</th>\n",
       "      <th>Date</th>\n",
       "      <th>Open</th>\n",
       "      <th>High</th>\n",
       "      <th>Low</th>\n",
       "      <th>Close</th>\n",
       "      <th>Volume</th>\n",
       "    </tr>\n",
       "  </thead>\n",
       "  <tbody>\n",
       "    <tr>\n",
       "      <th>0</th>\n",
       "      <td>HBL</td>\n",
       "      <td>01-Oct-2015</td>\n",
       "      <td>198.00</td>\n",
       "      <td>200.50</td>\n",
       "      <td>196.80</td>\n",
       "      <td>197.87</td>\n",
       "      <td>426600</td>\n",
       "    </tr>\n",
       "    <tr>\n",
       "      <th>1</th>\n",
       "      <td>HBL</td>\n",
       "      <td>02-Oct-2015</td>\n",
       "      <td>199.00</td>\n",
       "      <td>200.00</td>\n",
       "      <td>198.00</td>\n",
       "      <td>198.27</td>\n",
       "      <td>370300</td>\n",
       "    </tr>\n",
       "    <tr>\n",
       "      <th>2</th>\n",
       "      <td>HBL</td>\n",
       "      <td>05-Oct-2015</td>\n",
       "      <td>198.03</td>\n",
       "      <td>198.51</td>\n",
       "      <td>197.11</td>\n",
       "      <td>198.01</td>\n",
       "      <td>47900</td>\n",
       "    </tr>\n",
       "    <tr>\n",
       "      <th>3</th>\n",
       "      <td>HBL</td>\n",
       "      <td>06-Oct-2015</td>\n",
       "      <td>199.90</td>\n",
       "      <td>204.49</td>\n",
       "      <td>199.00</td>\n",
       "      <td>203.25</td>\n",
       "      <td>157300</td>\n",
       "    </tr>\n",
       "    <tr>\n",
       "      <th>4</th>\n",
       "      <td>HBL</td>\n",
       "      <td>07-Oct-2015</td>\n",
       "      <td>203.00</td>\n",
       "      <td>204.65</td>\n",
       "      <td>202.00</td>\n",
       "      <td>204.00</td>\n",
       "      <td>130400</td>\n",
       "    </tr>\n",
       "  </tbody>\n",
       "</table>\n",
       "</div>"
      ],
      "text/plain": [
       "  Symbol         Date    Open    High     Low   Close  Volume\n",
       "0    HBL  01-Oct-2015  198.00  200.50  196.80  197.87  426600\n",
       "1    HBL  02-Oct-2015  199.00  200.00  198.00  198.27  370300\n",
       "2    HBL  05-Oct-2015  198.03  198.51  197.11  198.01   47900\n",
       "3    HBL  06-Oct-2015  199.90  204.49  199.00  203.25  157300\n",
       "4    HBL  07-Oct-2015  203.00  204.65  202.00  204.00  130400"
      ]
     },
     "execution_count": 4,
     "metadata": {},
     "output_type": "execute_result"
    }
   ],
   "source": [
    "csvFilePath = './data/stocks2023/hbl.csv'\n",
    "dfCsv = pd.read_csv(csvFilePath)\n",
    "dfCsv.head()"
   ]
  },
  {
   "cell_type": "markdown",
   "metadata": {},
   "source": [
    "### 3.3. Merge both the imported data with date"
   ]
  },
  {
   "cell_type": "code",
   "execution_count": 5,
   "metadata": {},
   "outputs": [
    {
     "data": {
      "text/html": [
       "<div>\n",
       "<style scoped>\n",
       "    .dataframe tbody tr th:only-of-type {\n",
       "        vertical-align: middle;\n",
       "    }\n",
       "\n",
       "    .dataframe tbody tr th {\n",
       "        vertical-align: top;\n",
       "    }\n",
       "\n",
       "    .dataframe thead th {\n",
       "        text-align: right;\n",
       "    }\n",
       "</style>\n",
       "<table border=\"1\" class=\"dataframe\">\n",
       "  <thead>\n",
       "    <tr style=\"text-align: right;\">\n",
       "      <th></th>\n",
       "      <th>Date</th>\n",
       "      <th>Open</th>\n",
       "      <th>High</th>\n",
       "      <th>Low</th>\n",
       "      <th>Close</th>\n",
       "      <th>Volume</th>\n",
       "      <th>feature1</th>\n",
       "      <th>feature2</th>\n",
       "      <th>feature3</th>\n",
       "      <th>feature4</th>\n",
       "      <th>feature5</th>\n",
       "    </tr>\n",
       "  </thead>\n",
       "  <tbody>\n",
       "    <tr>\n",
       "      <th>0</th>\n",
       "      <td>01-Oct-2015</td>\n",
       "      <td>198.00</td>\n",
       "      <td>200.50</td>\n",
       "      <td>196.80</td>\n",
       "      <td>197.87</td>\n",
       "      <td>426600</td>\n",
       "      <td>0.312187</td>\n",
       "      <td>0.163488</td>\n",
       "      <td>0.167254</td>\n",
       "      <td>0.178624</td>\n",
       "      <td>0.178447</td>\n",
       "    </tr>\n",
       "    <tr>\n",
       "      <th>1</th>\n",
       "      <td>02-Oct-2015</td>\n",
       "      <td>199.00</td>\n",
       "      <td>200.00</td>\n",
       "      <td>198.00</td>\n",
       "      <td>198.27</td>\n",
       "      <td>370300</td>\n",
       "      <td>0.299259</td>\n",
       "      <td>0.175934</td>\n",
       "      <td>0.165843</td>\n",
       "      <td>0.174329</td>\n",
       "      <td>0.184635</td>\n",
       "    </tr>\n",
       "    <tr>\n",
       "      <th>2</th>\n",
       "      <td>05-Oct-2015</td>\n",
       "      <td>198.03</td>\n",
       "      <td>198.51</td>\n",
       "      <td>197.11</td>\n",
       "      <td>198.01</td>\n",
       "      <td>47900</td>\n",
       "      <td>0.277948</td>\n",
       "      <td>0.170541</td>\n",
       "      <td>0.171659</td>\n",
       "      <td>0.191485</td>\n",
       "      <td>0.188367</td>\n",
       "    </tr>\n",
       "    <tr>\n",
       "      <th>3</th>\n",
       "      <td>06-Oct-2015</td>\n",
       "      <td>199.90</td>\n",
       "      <td>204.49</td>\n",
       "      <td>199.00</td>\n",
       "      <td>203.25</td>\n",
       "      <td>157300</td>\n",
       "      <td>0.327915</td>\n",
       "      <td>0.163137</td>\n",
       "      <td>0.156347</td>\n",
       "      <td>0.172104</td>\n",
       "      <td>0.180497</td>\n",
       "    </tr>\n",
       "    <tr>\n",
       "      <th>4</th>\n",
       "      <td>07-Oct-2015</td>\n",
       "      <td>203.00</td>\n",
       "      <td>204.65</td>\n",
       "      <td>202.00</td>\n",
       "      <td>204.00</td>\n",
       "      <td>130400</td>\n",
       "      <td>0.344828</td>\n",
       "      <td>0.175881</td>\n",
       "      <td>0.167450</td>\n",
       "      <td>0.156289</td>\n",
       "      <td>0.155552</td>\n",
       "    </tr>\n",
       "  </tbody>\n",
       "</table>\n",
       "</div>"
      ],
      "text/plain": [
       "          Date    Open    High     Low   Close  Volume  feature1  feature2  \\\n",
       "0  01-Oct-2015  198.00  200.50  196.80  197.87  426600  0.312187  0.163488   \n",
       "1  02-Oct-2015  199.00  200.00  198.00  198.27  370300  0.299259  0.175934   \n",
       "2  05-Oct-2015  198.03  198.51  197.11  198.01   47900  0.277948  0.170541   \n",
       "3  06-Oct-2015  199.90  204.49  199.00  203.25  157300  0.327915  0.163137   \n",
       "4  07-Oct-2015  203.00  204.65  202.00  204.00  130400  0.344828  0.175881   \n",
       "\n",
       "   feature3  feature4  feature5  \n",
       "0  0.167254  0.178624  0.178447  \n",
       "1  0.165843  0.174329  0.184635  \n",
       "2  0.171659  0.191485  0.188367  \n",
       "3  0.156347  0.172104  0.180497  \n",
       "4  0.167450  0.156289  0.155552  "
      ]
     },
     "execution_count": 5,
     "metadata": {},
     "output_type": "execute_result"
    }
   ],
   "source": [
    "dfCsv['date'] = pd.to_datetime(dfCsv['Date'], format='%d-%b-%Y')\n",
    "dfMerged = pd.merge(dfCsv, dfSentiment, on='date', how='left')\n",
    "dfSentimentColumns = pd.DataFrame(dfMerged['sentiment'].tolist(), columns=['feature1', 'feature2', 'feature3', 'feature4', 'feature5'])\n",
    "dfMerged = pd.concat([dfMerged, dfSentimentColumns], axis=1)\n",
    "\n",
    "dfMerged = dfMerged.drop(columns=['Symbol', 'date', 'sentiment', 'jsonDate'])\n",
    "dfMerged.head()"
   ]
  },
  {
   "cell_type": "markdown",
   "metadata": {},
   "source": [
    "### 3.4. Saving the merged data\n",
    "- Saving the file in CSV format ([hbl_feat.csv](./data/stocks2023/hbl_feat.csv))"
   ]
  },
  {
   "cell_type": "code",
   "execution_count": 6,
   "metadata": {},
   "outputs": [],
   "source": [
    "outputCsvPath = './data/stocks2023/hbl_feat.csv'\n",
    "dfMerged.to_csv(outputCsvPath, index=False)"
   ]
  },
  {
   "cell_type": "markdown",
   "metadata": {},
   "source": [
    "### 3.5. Check data by plotting the graph"
   ]
  },
  {
   "cell_type": "code",
   "execution_count": 7,
   "metadata": {},
   "outputs": [
    {
     "data": {
      "image/png": "[encoded data removed]",
      "text/plain": [
       "<Figure size 640x480 with 1 Axes>"
      ]
     },
     "metadata": {},
     "output_type": "display_data"
    }
   ],
   "source": [
    "dfMerged[['Close']].plot()\n",
    "plt.show()"
   ]
  }
 ],
 "metadata": {
  "kernelspec": {
   "display_name": "dvenv",
   "language": "python",
   "name": "python3"
  },
  "language_info": {
   "codemirror_mode": {
    "name": "ipython",
    "version": 3
   },
   "file_extension": ".py",
   "mimetype": "text/x-python",
   "name": "python",
   "nbconvert_exporter": "python",
   "pygments_lexer": "ipython3",
   "version": "3.11.2"
  }
 },
 "nbformat": 4,
 "nbformat_minor": 2
}
